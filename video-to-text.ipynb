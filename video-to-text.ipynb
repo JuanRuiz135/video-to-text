{
 "cells": [
  {
   "cell_type": "markdown",
   "metadata": {},
   "source": [
    "## 0. Installing and importing dependencies"
   ]
  },
  {
   "cell_type": "code",
   "execution_count": 1,
   "metadata": {},
   "outputs": [
    {
     "name": "stdout",
     "output_type": "stream",
     "text": [
      "Requirement already satisfied: ibm_watson in /home/juandev/ENTER/lib/python3.7/site-packages (5.0.2)\n",
      "Requirement already satisfied: requests<3.0,>=2.0 in /home/juandev/ENTER/lib/python3.7/site-packages (from ibm_watson) (2.25.1)\n",
      "Requirement already satisfied: python-dateutil>=2.5.3 in /home/juandev/ENTER/lib/python3.7/site-packages (from ibm_watson) (2.8.1)\n",
      "Requirement already satisfied: ibm-cloud-sdk-core==1.7.3 in /home/juandev/ENTER/lib/python3.7/site-packages (from ibm_watson) (1.7.3)\n",
      "Requirement already satisfied: websocket-client==0.48.0 in /home/juandev/ENTER/lib/python3.7/site-packages (from ibm_watson) (0.48.0)\n",
      "Requirement already satisfied: PyJWT>=1.7.1 in /home/juandev/ENTER/lib/python3.7/site-packages (from ibm-cloud-sdk-core==1.7.3->ibm_watson) (1.7.1)\n",
      "Requirement already satisfied: six in /home/juandev/ENTER/lib/python3.7/site-packages (from websocket-client==0.48.0->ibm_watson) (1.15.0)\n",
      "Requirement already satisfied: chardet<5,>=3.0.2 in /home/juandev/ENTER/lib/python3.7/site-packages (from requests<3.0,>=2.0->ibm_watson) (4.0.0)\n",
      "Requirement already satisfied: idna<3,>=2.5 in /home/juandev/ENTER/lib/python3.7/site-packages (from requests<3.0,>=2.0->ibm_watson) (2.10)\n",
      "Requirement already satisfied: urllib3<1.27,>=1.21.1 in /home/juandev/ENTER/lib/python3.7/site-packages (from requests<3.0,>=2.0->ibm_watson) (1.26.2)\n",
      "Requirement already satisfied: certifi>=2017.4.17 in /home/juandev/ENTER/lib/python3.7/site-packages (from requests<3.0,>=2.0->ibm_watson) (2020.12.5)\n"
     ]
    }
   ],
   "source": [
    "!pip install ibm_watson\n",
    "#!brew install ffmpeg"
   ]
  },
  {
   "cell_type": "code",
   "execution_count": 2,
   "metadata": {},
   "outputs": [],
   "source": [
    "# Utilities\n",
    "import subprocess\n",
    "\n",
    "# IBM Watson libraries\n",
    "from ibm_watson import SpeechToTextV1 \n",
    "from ibm_watson.websocket import RecognizeCallback, AudioSource # helpers\n",
    "from ibm_cloud_sdk_core.authenticators import IAMAuthenticator # authenticate speech to text service\n"
   ]
  },
  {
   "cell_type": "markdown",
   "metadata": {},
   "source": [
    "## 1. Extract Audio"
   ]
  },
  {
   "cell_type": "code",
   "execution_count": 3,
   "metadata": {},
   "outputs": [
    {
     "data": {
      "text/plain": [
       "1"
      ]
     },
     "execution_count": 3,
     "metadata": {},
     "output_type": "execute_result"
    }
   ],
   "source": [
    "# write the command to extract the audio from the video with the ffmpeg cmd\n",
    "\n",
    "command = 'ffmpeg -i htlans.mp4 -ab 160k -ar 44100 -vn audio.wav'\n",
    "\n",
    "# the -ab is the bit rate and the ar is the frequency, and the last part is what we want the filename to be\n",
    "\n",
    "subprocess.call(command, shell=True)"
   ]
  },
  {
   "cell_type": "markdown",
   "metadata": {},
   "source": [
    "## 2. Setup STT Service\n",
    "Lets set up the Watson Speech to Text service"
   ]
  },
  {
   "cell_type": "code",
   "execution_count": 4,
   "metadata": {},
   "outputs": [],
   "source": [
    "# You can get this by going to cloud ibm and getting the speech to text service FREE\n",
    "apikey = 'xxxxxxxx'\n",
    "url = 'xxxxxxxx'"
   ]
  },
  {
   "cell_type": "code",
   "execution_count": 5,
   "metadata": {},
   "outputs": [],
   "source": [
    "# Setup the service\n",
    "authenticator = IAMAuthenticator(apikey) # authenticates the api\n",
    "stt = SpeechToTextV1(authenticator=authenticator) # pass the authenticator to the speech to text service\n",
    "stt.set_service_url(url) # tells wheres our service in the www"
   ]
  },
  {
   "cell_type": "markdown",
   "metadata": {},
   "source": [
    "## 3. Open audio source and convert it"
   ]
  },
  {
   "cell_type": "code",
   "execution_count": 6,
   "metadata": {},
   "outputs": [],
   "source": [
    "# open the file\n",
    "with open('audio.wav', 'rb') as f:\n",
    "    # use recognize method to convert speech to text\n",
    "    res = stt.recognize(audio=f, content_type='audio/wav', model='en-US_NarrowbandModel', continuous=True).get_result()"
   ]
  },
  {
   "cell_type": "code",
   "execution_count": 7,
   "metadata": {},
   "outputs": [],
   "source": [
    "# the 9 minute video i used took around 3-4 minutes to convert"
   ]
  },
  {
   "cell_type": "markdown",
   "metadata": {},
   "source": [
    "## 4. Process Results and Output to Text"
   ]
  },
  {
   "cell_type": "code",
   "execution_count": 9,
   "metadata": {},
   "outputs": [],
   "source": [
    "text = [result['alternatives'][0]['transcript'].rstrip() + '.\\n' for result in res['results']]"
   ]
  },
  {
   "cell_type": "code",
   "execution_count": 10,
   "metadata": {},
   "outputs": [],
   "source": [
    "text = [para[0].title() + para[1:] for para in text]\n",
    "transcript = ''.join(text)\n",
    "with open('output.txt', 'w') as out:\n",
    "    out.writelines(transcript)\n",
    "          "
   ]
  },
  {
   "cell_type": "code",
   "execution_count": 11,
   "metadata": {},
   "outputs": [
    {
     "data": {
      "text/plain": [
       "\"First question is you've reached a high level of ability slash expertise in a number of fields martial arts A. I. music etcetera I'm curious to know how you think about the learning process when juggling all of these things it takes a huge amount of time and dedication to master anyone of these skills where do you draw the line between balance and obsession put another way how deeply do you immerse yourself on learning something how do you schedule your day for work slash learning is it appropriate to spend nearly every waking hour learning in developing a skill do you try to learn a number of things at once or narrow your focus to one thing so first of all obviously have not achieved mastery in any of these things and I should also say that I don't think I figured out the art of learning very much but I can give my two cents of the way I see it so one passion I think is exceptionally important for learning anything and if I look back on my life I certainly have spent days and weeks and months at a time really obsessed with things not to me that's not necessarily useful on the long journey of learning a skill from the beginner to mastery what has been useful to me and if I have a philosophy on it is probably centered around the rigor of discipline so making sure that every single day you do a minimum amount of that particular thing and you do it for weeks months years and also the way to remove motivation from the picture is to build a habit when I'm first learning something I tried to set the goal of doing a minimum of two hours a day of that thing for a year to build the foundation so that first year is really important it's so easy to kind of skip out on a few days and then %HESITATION days becomes weeks and weeks become months and you lose completely that %HESITATION initial hook that like pulls you into.\\nAs the depths of the particular topic so I really want to be a stickler of putting in I would say one to two hours but if I look at my life successful things like music have been at least two hours a day four year to build the foundation then looking out farther into let's say a five year range you can lower that to about one hour a day and that's to %HESITATION built the what I would think of his expertise as he can get pretty good at something in five years if you just do it one hour a day I don't know if this is true for everyone but I think for me not even our just ten minutes a day it's been really surprising how good I can get and a bunch of little things from just doing every single day at not not even ten minutes like one minute a day because it's rarely becomes a one minute thing you usually blows up into a thing that takes an hour but if you just set a hard lower limit and make sure you do it every single day no matter what no matter where you are you end up forming this habit and there's an accumulation affect a skill that's just fascinating.\\nSo that's five years and I think at that point the skill of solidified nicely I don't think it's mastery by any means but there's a level of expertise that seems to process for a long period of time what I find like with music for me not singing just music I have I have an actual practicing I suck at singing but the the music part I think I've achieved a sort of %HESITATION minimal kind of %HESITATION understanding and this point just even ten minutes a day for the rest of your life is one way to I think take for them further steps into mastery again I think masteries impossible but to increase the skill over time I think a very minimal amount of time but every single day is good the other magic thing about it is you can at this point at least for me take off months at a time and when you return to it you pick up almost right where you started I don't think you want to overdo it but I think after you put in the first few years of every single day of an hour or two there's something about the mind is kind of solidified in there you have certainly had months where I don't play guitar at all and I return to it maybe I'll take a day or two in your right back into it.\\nSo but still if you really want to grow you want to put in every single day for me twenty minutes is just the right minimal amount to give me time to get pulled into the task fully get immersed fully enough to where I can pick up little tidbits of new stuff new ideas to kind of %HESITATION get going ready for the next day.\\nFor me there's always a kind of fastening dance here between passion and discipline.\\nI think passion goes up and down and that's where discipline is a sensor to keep Kerry forward to keep doing this thing every day and I'm not a big believer of %HESITATION resting then returning to the task I'm a big believer in when you don't really want to do it still grinding it out and %HESITATION days later your passion for the thing would return.\\nPeople different that's how I am.\\nBecause %HESITATION the greater danger for me is when you take a break when you rest is you going to destroy the habit the you've built and once you just for the habit it's too easy to never return to the pursuit of expertise that you are on for many years before.\\nAlso related question was asked I loved your video on recipe for success in A. I. do you have any advice for dealing with the frustrations last difficulty in making progress I'm learning high school math right now well the proof based course and sometimes it gets hard I feel like crying do you have any advice for pushing past frustration it dead ends thanks.\\nI personally think that struggle is a sign that you're on the right path so all those things in my life that I've gotten the most meaning from learning I struggle through it I think the biggest reward at the lowest level your brain like the things you actually remember and just %HESITATION so satisfaction happiness you feel about life is when the something's really hard but you stick to it and then you eventually succeed that locks in the lessons into your brain and makes you feel good about yourself that gives you more confidence for keep doing that in the future also I think this is helpful for a bunch of people like David Goggins it's not as helpful to me but I'll just give it to you because I've tried it doesn't really work for me but a little mind hack which is imagining the year of kind of %HESITATION competition with everybody else in the world and.\\nSo if something is difficult for you imagining it is probably going to be difficult for a lot of people and if you just stick by it you're going to leave all those people behind you and eventually if you keep doing it long enough you'll be the best person in the world at it so kind of %HESITATION seeing struggle as a sign that most people would be %HESITATION quitting at this point and it gives you motivation that like.\\nThe struggle is a sign that you're on the past always being number one if you enjoy the kind of %HESITATION idea of you being at that top tier of excellence in this thing then %HESITATION then that kind of might had can help I personally don't often like to sink in that way especially in competition with others I just like the art itself so I enjoy the idea of pursue mastery not in comparison to others but just for myself so in that sense that mine had doesn't really work for me I kind of tend to believe that if I embraced the grind of habit of every day doing something that's months from now years from now as I've had many times in my life.\\nI will experience sees moments these long periods of flow of truly enjoying the process of %HESITATION practicing that thing so for me music now that I've achieved the level they have achieved my own personal quiet private moments I can truly enjoy feeling the music %HESITATION creating on the guitar playing Jimi Hendrix playing Stevie Ray Vaughan improvising different blues %HESITATION or even just like much simpler songs like these %HESITATION crying melodic songs of Eric Clapton wonderful tonight or %HESITATION or even just strumming in a way where I can also sing just L. allows me to enjoy it %HESITATION the posting musicality in the deep meaning in the words and all that kind of stuff and that was only possible because I put in that time in the early years of the foundation that I built and it allows you to enjoy life and I believe in that if you form the habit if you do this thing every single day eventually you'll get to a set of %HESITATION a set of activities that you enjoy partaking that our source of a lot of meeting and happiness in your life so.\\nYou can think of it as a mine hack which is %HESITATION believing that discipline eventually leads to a meaningful life.\\nHope that answers the question good luck.\\n\""
      ]
     },
     "execution_count": 11,
     "metadata": {},
     "output_type": "execute_result"
    }
   ],
   "source": [
    "transcript"
   ]
  }
 ],
 "metadata": {
  "kernelspec": {
   "display_name": "videototext",
   "language": "python",
   "name": "videototext"
  },
  "language_info": {
   "codemirror_mode": {
    "name": "ipython",
    "version": 3
   },
   "file_extension": ".py",
   "mimetype": "text/x-python",
   "name": "python",
   "nbconvert_exporter": "python",
   "pygments_lexer": "ipython3",
   "version": "3.7.9"
  }
 },
 "nbformat": 4,
 "nbformat_minor": 4
}
